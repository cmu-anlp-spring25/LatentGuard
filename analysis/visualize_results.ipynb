{
 "cells": [
  {
   "cell_type": "code",
   "execution_count": 12,
   "metadata": {},
   "outputs": [],
   "source": [
    "import pandas as pd\n",
    "import numpy as np\n",
    "import matplotlib.pyplot as plt"
   ]
  },
  {
   "cell_type": "markdown",
   "metadata": {},
   "source": [
    "# CoPro"
   ]
  },
  {
   "cell_type": "code",
   "execution_count": 4,
   "metadata": {},
   "outputs": [],
   "source": [
    "eval_valid_path = '../multistage_pipeline/evaluation/valid.csv'\n",
    "eval_test_path = '../multistage_pipeline/evaluation/test.csv'"
   ]
  },
  {
   "cell_type": "code",
   "execution_count": 5,
   "metadata": {},
   "outputs": [],
   "source": [
    "eval_valid_df = pd.read_csv(eval_valid_path)\n",
    "eval_test_df = pd.read_csv(eval_test_path)"
   ]
  },
  {
   "cell_type": "code",
   "execution_count": 7,
   "metadata": {},
   "outputs": [
    {
     "data": {
      "text/html": [
       "<div>\n",
       "<style scoped>\n",
       "    .dataframe tbody tr th:only-of-type {\n",
       "        vertical-align: middle;\n",
       "    }\n",
       "\n",
       "    .dataframe tbody tr th {\n",
       "        vertical-align: top;\n",
       "    }\n",
       "\n",
       "    .dataframe thead th {\n",
       "        text-align: right;\n",
       "    }\n",
       "</style>\n",
       "<table border=\"1\" class=\"dataframe\">\n",
       "  <thead>\n",
       "    <tr style=\"text-align: right;\">\n",
       "      <th></th>\n",
       "      <th>setting</th>\n",
       "      <th>auroc</th>\n",
       "      <th>acc</th>\n",
       "      <th>acc_pre_latentguard</th>\n",
       "      <th>acc_postlatentguard_delta_0.1</th>\n",
       "      <th>acc_postlatentguard_delta_0.5</th>\n",
       "      <th>acc_postlatentguard_delta_1</th>\n",
       "      <th>acc_postlatentguard_delta_2</th>\n",
       "    </tr>\n",
       "  </thead>\n",
       "  <tbody>\n",
       "    <tr>\n",
       "      <th>0</th>\n",
       "      <td>id_explicit</td>\n",
       "      <td>0.985243</td>\n",
       "      <td>0.868147</td>\n",
       "      <td>0.840308</td>\n",
       "      <td>0.873654</td>\n",
       "      <td>0.888338</td>\n",
       "      <td>0.905409</td>\n",
       "      <td>0.926028</td>\n",
       "    </tr>\n",
       "    <tr>\n",
       "      <th>1</th>\n",
       "      <td>id_synonym</td>\n",
       "      <td>0.914174</td>\n",
       "      <td>0.828143</td>\n",
       "      <td>0.816229</td>\n",
       "      <td>0.832645</td>\n",
       "      <td>0.837336</td>\n",
       "      <td>0.843246</td>\n",
       "      <td>0.834334</td>\n",
       "    </tr>\n",
       "    <tr>\n",
       "      <th>2</th>\n",
       "      <td>id_adversarial</td>\n",
       "      <td>0.907878</td>\n",
       "      <td>0.828705</td>\n",
       "      <td>0.822514</td>\n",
       "      <td>0.832270</td>\n",
       "      <td>0.837617</td>\n",
       "      <td>0.835460</td>\n",
       "      <td>0.818105</td>\n",
       "    </tr>\n",
       "    <tr>\n",
       "      <th>3</th>\n",
       "      <td>ood_explicit</td>\n",
       "      <td>0.944033</td>\n",
       "      <td>0.867596</td>\n",
       "      <td>0.840372</td>\n",
       "      <td>0.866578</td>\n",
       "      <td>0.860625</td>\n",
       "      <td>0.853501</td>\n",
       "      <td>0.826532</td>\n",
       "    </tr>\n",
       "    <tr>\n",
       "      <th>4</th>\n",
       "      <td>ood_synonym</td>\n",
       "      <td>0.913460</td>\n",
       "      <td>0.824182</td>\n",
       "      <td>0.800993</td>\n",
       "      <td>0.822243</td>\n",
       "      <td>0.810377</td>\n",
       "      <td>0.793702</td>\n",
       "      <td>0.757794</td>\n",
       "    </tr>\n",
       "    <tr>\n",
       "      <th>5</th>\n",
       "      <td>ood_adversarial</td>\n",
       "      <td>0.915109</td>\n",
       "      <td>0.819528</td>\n",
       "      <td>0.799674</td>\n",
       "      <td>0.816194</td>\n",
       "      <td>0.804328</td>\n",
       "      <td>0.786567</td>\n",
       "      <td>0.739026</td>\n",
       "    </tr>\n",
       "  </tbody>\n",
       "</table>\n",
       "</div>"
      ],
      "text/plain": [
       "           setting     auroc       acc  acc_pre_latentguard  \\\n",
       "0      id_explicit  0.985243  0.868147             0.840308   \n",
       "1       id_synonym  0.914174  0.828143             0.816229   \n",
       "2   id_adversarial  0.907878  0.828705             0.822514   \n",
       "3     ood_explicit  0.944033  0.867596             0.840372   \n",
       "4      ood_synonym  0.913460  0.824182             0.800993   \n",
       "5  ood_adversarial  0.915109  0.819528             0.799674   \n",
       "\n",
       "   acc_postlatentguard_delta_0.1  acc_postlatentguard_delta_0.5  \\\n",
       "0                       0.873654                       0.888338   \n",
       "1                       0.832645                       0.837336   \n",
       "2                       0.832270                       0.837617   \n",
       "3                       0.866578                       0.860625   \n",
       "4                       0.822243                       0.810377   \n",
       "5                       0.816194                       0.804328   \n",
       "\n",
       "   acc_postlatentguard_delta_1  acc_postlatentguard_delta_2  \n",
       "0                     0.905409                     0.926028  \n",
       "1                     0.843246                     0.834334  \n",
       "2                     0.835460                     0.818105  \n",
       "3                     0.853501                     0.826532  \n",
       "4                     0.793702                     0.757794  \n",
       "5                     0.786567                     0.739026  "
      ]
     },
     "execution_count": 7,
     "metadata": {},
     "output_type": "execute_result"
    }
   ],
   "source": [
    "eval_test_df"
   ]
  },
  {
   "cell_type": "markdown",
   "metadata": {},
   "source": [
    "# Unsafe Diffusion"
   ]
  },
  {
   "cell_type": "code",
   "execution_count": 9,
   "metadata": {},
   "outputs": [
    {
     "data": {
      "text/html": [
       "<div>\n",
       "<style scoped>\n",
       "    .dataframe tbody tr th:only-of-type {\n",
       "        vertical-align: middle;\n",
       "    }\n",
       "\n",
       "    .dataframe tbody tr th {\n",
       "        vertical-align: top;\n",
       "    }\n",
       "\n",
       "    .dataframe thead th {\n",
       "        text-align: right;\n",
       "    }\n",
       "</style>\n",
       "<table border=\"1\" class=\"dataframe\">\n",
       "  <thead>\n",
       "    <tr style=\"text-align: right;\">\n",
       "      <th></th>\n",
       "      <th>auroc</th>\n",
       "      <th>acc</th>\n",
       "      <th>acc_pre_latentguard</th>\n",
       "      <th>acc_postlatentguard_delta_0.1</th>\n",
       "      <th>acc_postlatentguard_delta_0.5</th>\n",
       "      <th>acc_postlatentguard_delta_1</th>\n",
       "      <th>acc_postlatentguard_delta_2</th>\n",
       "      <th>acc_postlatentguard_delta_3</th>\n",
       "      <th>acc_postlatentguard_delta_4</th>\n",
       "      <th>acc_postlatentguard_delta_5</th>\n",
       "    </tr>\n",
       "  </thead>\n",
       "  <tbody>\n",
       "    <tr>\n",
       "      <th>0</th>\n",
       "      <td>0.867304</td>\n",
       "      <td>0.723152</td>\n",
       "      <td>0.716179</td>\n",
       "      <td>0.729428</td>\n",
       "      <td>0.737796</td>\n",
       "      <td>0.751046</td>\n",
       "      <td>0.787308</td>\n",
       "      <td>0.819386</td>\n",
       "      <td>0.811018</td>\n",
       "      <td>0.801953</td>\n",
       "    </tr>\n",
       "  </tbody>\n",
       "</table>\n",
       "</div>"
      ],
      "text/plain": [
       "      auroc       acc  acc_pre_latentguard  acc_postlatentguard_delta_0.1  \\\n",
       "0  0.867304  0.723152             0.716179                       0.729428   \n",
       "\n",
       "   acc_postlatentguard_delta_0.5  acc_postlatentguard_delta_1  \\\n",
       "0                       0.737796                     0.751046   \n",
       "\n",
       "   acc_postlatentguard_delta_2  acc_postlatentguard_delta_3  \\\n",
       "0                     0.787308                     0.819386   \n",
       "\n",
       "   acc_postlatentguard_delta_4  acc_postlatentguard_delta_5  \n",
       "0                     0.811018                     0.801953  "
      ]
     },
     "execution_count": 9,
     "metadata": {},
     "output_type": "execute_result"
    }
   ],
   "source": [
    "eval_test_ud_df = pd.read_csv('../multistage_pipeline/evaluation/test_unsafe_diffusion.csv')\n",
    "eval_test_ud_df "
   ]
  },
  {
   "cell_type": "code",
   "execution_count": 19,
   "metadata": {},
   "outputs": [],
   "source": [
    "deltas = list()\n",
    "acc_list = list()\n",
    "\n",
    "deltas.append(0)\n",
    "acc_list.append(eval_test_ud_df.iloc[0]['acc'])\n",
    "\n",
    "deltas= deltas + [0.1, 0.5, 1, 2, 3, 4, 5]\n",
    "\n",
    "for delta in [0.1, 0.5, 1, 2, 3, 4, 5]:\n",
    "    acc_list.append(eval_test_ud_df.iloc[0][f'acc_postlatentguard_delta_{delta}'])\n",
    "\n"
   ]
  },
  {
   "cell_type": "code",
   "execution_count": 21,
   "metadata": {},
   "outputs": [
    {
     "data": {
      "text/plain": [
       "Text(0.5, 1.0, 'Reevaluate using LLM if the latentguard score falls in (threshold-delta, threshold+delta)')"
      ]
     },
     "execution_count": 21,
     "metadata": {},
     "output_type": "execute_result"
    },
    {
     "data": {
      "image/png": "[encoded data removed]",
      "text/plain": [
       "<Figure size 432x288 with 1 Axes>"
      ]
     },
     "metadata": {
      "needs_background": "light"
     },
     "output_type": "display_data"
    }
   ],
   "source": [
    "plt.plot(deltas, acc_list, marker='o')\n",
    "plt.xlabel('delta')\n",
    "plt.ylabel('accuracy')\n",
    "plt.title('Reevaluate using LLM if the latentguard score falls in (threshold-delta, threshold+delta)')"
   ]
  }
 ],
 "metadata": {
  "kernelspec": {
   "display_name": "ml_env",
   "language": "python",
   "name": "python3"
  },
  "language_info": {
   "codemirror_mode": {
    "name": "ipython",
    "version": 3
   },
   "file_extension": ".py",
   "mimetype": "text/x-python",
   "name": "python",
   "nbconvert_exporter": "python",
   "pygments_lexer": "ipython3",
   "version": "3.8.6"
  }
 },
 "nbformat": 4,
 "nbformat_minor": 2
}
